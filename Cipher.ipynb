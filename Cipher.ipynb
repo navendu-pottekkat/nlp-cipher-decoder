{
  "nbformat": 4,
  "nbformat_minor": 0,
  "metadata": {
    "colab": {
      "name": "Cipher.ipynb",
      "provenance": [],
      "collapsed_sections": []
    },
    "kernelspec": {
      "name": "python3",
      "display_name": "Python 3"
    }
  },
  "cells": [
    {
      "cell_type": "code",
      "metadata": {
        "id": "c6hGhgCXQAx6",
        "colab_type": "code",
        "colab": {}
      },
      "source": [
        "# Author: Navendu Pottekkat (https://bit.ly/navendupottekkat)\n",
        "\n",
        "import numpy as np\n",
        "import matplotlib.pyplot as plt\n",
        "\n",
        "import string\n",
        "import random\n",
        "import re\n",
        "import requests\n",
        "import os\n",
        "import textwrap"
      ],
      "execution_count": 0,
      "outputs": []
    },
    {
      "cell_type": "code",
      "metadata": {
        "id": "HHg2m2KaSWaf",
        "colab_type": "code",
        "colab": {}
      },
      "source": [
        "# Create a substitution \n",
        "\n",
        "letters1 = list(string.ascii_lowercase)\n",
        "letters2 = list(string.ascii_lowercase)\n",
        "\n",
        "true_mapping = {}\n",
        "\n",
        "# Shuffle the second set of letters\n",
        "random.shuffle(letters2)\n",
        "\n",
        "# Populate true_mapping\n",
        "for k,v in zip(letters1, letters2):\n",
        "  true_mapping[k] = v"
      ],
      "execution_count": 0,
      "outputs": []
    },
    {
      "cell_type": "code",
      "metadata": {
        "id": "-jl-MLKsVN4R",
        "colab_type": "code",
        "colab": {}
      },
      "source": [
        "# Language model\n",
        "\n",
        "# Initialise the Markov matrix\n",
        "M = np.ones((26,26))\n",
        "\n",
        "# Initialise state distribution\n",
        "pi = np.zeros(26)\n",
        "\n",
        "# Function to update the Markov matrix\n",
        "def update_transition(ch1, ch2):\n",
        "  i = ord(ch1) - 97\n",
        "  j = ord(ch2) - 97\n",
        "  M[i,j] += 1 \n",
        "\n",
        "# Function to update the initial state distribution\n",
        "def update_pi(ch):\n",
        "  i = ord(ch) - 97\n",
        "  pi[i] += 1\n",
        "\n",
        "# Get the log-probability of a word/token\n",
        "def get_word_prob(word):\n",
        "  i = ord(word[0]) - 97\n",
        "  logp = np.log(pi[i])\n",
        "\n",
        "  for ch in word[1:]:\n",
        "    j = ord(ch) - 97\n",
        "    logp += np.log(M[i,j])\n",
        "    i = j # update j\n",
        "  \n",
        "  return logp\n",
        "\n",
        "# Get the probability of sequence of words\n",
        "def get_sequence_prob(words):\n",
        "  # if input is string, split into an array of tokens\n",
        "  if type(words) == str:\n",
        "    words = words.split()\n",
        "  \n",
        "  logp = 0\n",
        "  for word in words:\n",
        "    logp += get_word_prob(word)\n",
        "  return logp"
      ],
      "execution_count": 0,
      "outputs": []
    },
    {
      "cell_type": "code",
      "metadata": {
        "id": "6R461afNnDxl",
        "colab_type": "code",
        "colab": {
          "base_uri": "https://localhost:8080/",
          "height": 34
        },
        "outputId": "333e1245-bb16-4238-9f56-58a6dc2488a2"
      },
      "source": [
        "# Creating a Markov model based on the book Moby Dick\n",
        "# https://lazyprogrammer.me/course_files/moby_dick.txt\n",
        "\n",
        "# Download the file\n",
        "if not os.path.exists('moby_dick.txt'):\n",
        "  print(\"Downloading Moby Dick...\")\n",
        "  r = requests.get('https://lazyprogrammer.me/course_files/moby_dick.txt')\n",
        "  with open('moby_dick.txt','w') as f:\n",
        "    f.write(r.content.decode())"
      ],
      "execution_count": 6,
      "outputs": [
        {
          "output_type": "stream",
          "text": [
            "Downloading Moby Dick...\n"
          ],
          "name": "stdout"
        }
      ]
    },
    {
      "cell_type": "code",
      "metadata": {
        "id": "mFbh73kapx4t",
        "colab_type": "code",
        "colab": {}
      },
      "source": [
        "# For replacing non-alpha chars\n",
        "\n",
        "regex = re.compile('[^a-zA-Z]')\n",
        "\n",
        "# Load in words\n",
        "for line in open('moby_dick.txt'):\n",
        "  line = line.rstrip()   \n",
        "\n",
        "  # There are blank lines in the file\n",
        "\n",
        "  if line:\n",
        "    line = regex.sub(' ', line) # replace all non-alpha characters with space\n",
        "\n",
        "    # Split the tokens in the line and lowercase\n",
        "    tokens = line.lower().split()\n",
        "\n",
        "    for token in tokens:\n",
        "      # Update the model\n",
        "\n",
        "      # First letter\n",
        "      ch0 = token[0]\n",
        "      update_pi(ch0)\n",
        "\n",
        "      # Other letters\n",
        "      for ch1 in token[1:]:\n",
        "        update_transition(ch0,ch1)\n",
        "        ch0 = ch1\n",
        "\n",
        "# Normalise the probabilities\n",
        "pi /= pi.sum()\n",
        "M /= M.sum(axis=1, keepdims=True) # divide each row by row-sum"
      ],
      "execution_count": 0,
      "outputs": []
    },
    {
      "cell_type": "code",
      "metadata": {
        "id": "6q209WIXtatM",
        "colab_type": "code",
        "colab": {}
      },
      "source": [
        "# Encode a message\n",
        "# Excerpt taken from The Adventures of Sherlock Holmes, by Arthur Conan Doyle\n",
        "# https://www.gutenberg.org/ebooks/1661\n",
        "\n",
        "original_message = '''I then lounged down the street and found,\n",
        "as I expected, that there was a mews in a lane which runs down\n",
        "by one wall of the garden. I lent the ostlers a hand in rubbing\n",
        "down their horses, and received in exchange twopence, a glass of\n",
        "half-and-half, two fills of shag tobacco, and as much information\n",
        "as I could desire about Miss Adler, to say nothing of half a dozen\n",
        "other people in the neighbourhood in whom I was not in the least\n",
        "interested, but whose biographies I was compelled to listen to.\n",
        "'''"
      ],
      "execution_count": 0,
      "outputs": []
    },
    {
      "cell_type": "code",
      "metadata": {
        "id": "rPnSklz9u57E",
        "colab_type": "code",
        "colab": {}
      },
      "source": [
        "# Function to encode a message\n",
        "def encode_message(msg):\n",
        "  msg = msg.lower() # make the message lowercase\n",
        "\n",
        "  # Replace non-alpha characters\n",
        "  msg = regex.sub(' ',msg)\n",
        "\n",
        "  # Make the encoded message\n",
        "  coded_msg = []\n",
        "  for ch in msg:\n",
        "    coded_ch = ch # Could be a space\n",
        "    if ch in true_mapping:\n",
        "      coded_ch = true_mapping[ch]\n",
        "    coded_msg.append(coded_ch)\n",
        "  \n",
        "  return ''.join(coded_msg)\n",
        "\n",
        "encoded_message = encode_message(original_message)\n",
        "\n",
        "# Function to decode a message\n",
        "def decode_message(msg, word_map):\n",
        "  decoded_msg = []\n",
        "  for ch in msg:\n",
        "    decoded_ch = ch # Could be a space\n",
        "    if ch in word_map:\n",
        "      decoded_ch = word_map[ch]\n",
        "    decoded_msg.append(decoded_ch)\n",
        "\n",
        "  return ''.join(decoded_msg)"
      ],
      "execution_count": 0,
      "outputs": []
    },
    {
      "cell_type": "code",
      "metadata": {
        "id": "jsb90_uCxeCn",
        "colab_type": "code",
        "colab": {}
      },
      "source": [
        "# Evolutionary algorithm to decode the message\n",
        "\n",
        "# Initialisation point\n",
        "# Creates 20 random DNA for the DNA pool to start with \n",
        "dna_pool = []\n",
        "for _ in range(20):\n",
        "  dna = list(string.ascii_lowercase)\n",
        "  random.shuffle(dna)\n",
        "  dna_pool.append(dna)"
      ],
      "execution_count": 0,
      "outputs": []
    },
    {
      "cell_type": "code",
      "metadata": {
        "id": "zerjCKS3-DVI",
        "colab_type": "code",
        "colab": {}
      },
      "source": [
        "# Function to create offsprings\n",
        "def evolve_offspring(dna_pool, n_children):\n",
        "  # Make n_children per offspring\n",
        "  offspring = []\n",
        "\n",
        "  for dna in dna_pool:\n",
        "    for _ in range(n_children):\n",
        "      copy = dna.copy()\n",
        "      j = np.random.randint(len(copy))\n",
        "      k = np.random.randint(len(copy))\n",
        "\n",
        "      # switch j and k in offspring\n",
        "      tmp = copy[j]\n",
        "      copy[j] = copy[k]\n",
        "      copy[k] = tmp\n",
        "      offspring.append(copy)\n",
        "    \n",
        "  return offspring + dna_pool"
      ],
      "execution_count": 0,
      "outputs": []
    },
    {
      "cell_type": "code",
      "metadata": {
        "id": "SdE1vJIHJ2km",
        "colab_type": "code",
        "colab": {
          "base_uri": "https://localhost:8080/",
          "height": 102
        },
        "outputId": "949e8afd-3eb2-4845-f5d3-c1c7a3d4be1a"
      },
      "source": [
        "num_iters = 1000\n",
        "scores = np.zeros(num_iters)\n",
        "best_dna = None\n",
        "best_map = None\n",
        "best_score = float('-inf')\n",
        "\n",
        "for i in range(num_iters):\n",
        "  if i > 0:\n",
        "    # Get offsprings from current DNA pool\n",
        "    dna_pool = evolve_offspring(dna_pool, 3)\n",
        "    \n",
        "  # Calculate the score for each DNA\n",
        "  dna2score = {}\n",
        "  for dna in dna_pool:\n",
        "    # populate the map\n",
        "    current_map = {}\n",
        "    for k,v in zip(letters1, dna):\n",
        "      current_map[k] = v\n",
        "\n",
        "    decoded_message = decode_message(encoded_message, current_map)\n",
        "    score = get_sequence_prob(decoded_message)\n",
        "\n",
        "    dna2score[''.join(dna)] = score\n",
        "\n",
        "    # Record the best score so far\n",
        "\n",
        "    if score > best_score:\n",
        "      best_dna = dna\n",
        "      best_map = current_map\n",
        "      best_score = score\n",
        "\n",
        "  # Average score for this generation\n",
        "  scores[i] = np.mean(list(dna2score.values()))\n",
        "\n",
        "  # Keep the best 5 DNA for the DNA pool\n",
        "  # Turn them back to list of single chars\n",
        "\n",
        "  sorted_dna = sorted(dna2score.items(), key=lambda x: x[1], reverse=True)\n",
        "  dna_pool = [list(k) for k, v in sorted_dna[:5]]\n",
        "\n",
        "  if i % 200 == 0:\n",
        "    print(\"iter:\", i, \"score:\", scores[i], \"best so far:\", best_score)"
      ],
      "execution_count": 14,
      "outputs": [
        {
          "output_type": "stream",
          "text": [
            "iter: 0 score: -2115.2134929093518 best so far: -1667.296983495816\n",
            "iter: 200 score: -1010.3022843339544 best so far: -933.0312453751817\n",
            "iter: 400 score: -1031.7304978976686 best so far: -929.5902922650557\n",
            "iter: 600 score: -1003.723861441145 best so far: -929.5902922650557\n",
            "iter: 800 score: -1038.536945335505 best so far: -929.5902922650557\n"
          ],
          "name": "stdout"
        }
      ]
    },
    {
      "cell_type": "code",
      "metadata": {
        "id": "ESu_SSpeZKVt",
        "colab_type": "code",
        "colab": {
          "base_uri": "https://localhost:8080/",
          "height": 85
        },
        "outputId": "f8edc1cf-9e4f-409b-b39f-f8b55d6264ba"
      },
      "source": [
        "# Use the best map for deciphering the message\n",
        "decoded_message = decode_message(encoded_message,best_map)\n",
        "\n",
        "print(\"LL of decoded message:\", get_sequence_prob(decoded_message))\n",
        "print(\"LL of true message:\", get_sequence_prob(regex.sub(' ', original_message.lower())))\n",
        "\n",
        "# Which of the letters mapped wrong?\n",
        "\n",
        "for true, v in true_mapping.items():\n",
        "  pred = best_map[v]\n",
        "  if true != pred:\n",
        "    print(\"True: %s, Pred: %s\" %(true, pred))"
      ],
      "execution_count": 15,
      "outputs": [
        {
          "output_type": "stream",
          "text": [
            "LL of decoded message: -929.5902922650557\n",
            "LL of true message: -933.0312453751817\n",
            "True: k, Pred: z\n",
            "True: z, Pred: k\n"
          ],
          "name": "stdout"
        }
      ]
    },
    {
      "cell_type": "code",
      "metadata": {
        "id": "EK_yOBZVjJri",
        "colab_type": "code",
        "colab": {
          "base_uri": "https://localhost:8080/",
          "height": 527
        },
        "outputId": "cff74efd-f315-42be-c9d2-db560d87d641"
      },
      "source": [
        "# Print the decoded message\n",
        "print(\"True message:\\n\", original_message)\n",
        "print(\"\\nEncoded Message:\\n\", textwrap.fill(encoded_message))\n",
        "print(\"\\nDecoded Message:\\n\", textwrap.fill(decoded_message))"
      ],
      "execution_count": 21,
      "outputs": [
        {
          "output_type": "stream",
          "text": [
            "True message:\n",
            " I then lounged down the street and found,\n",
            "as I expected, that there was a mews in a lane which runs down\n",
            "by one wall of the garden. I lent the ostlers a hand in rubbing\n",
            "down their horses, and received in exchange twopence, a glass of\n",
            "half-and-half, two fills of shag tobacco, and as much information\n",
            "as I could desire about Miss Adler, to say nothing of half a dozen\n",
            "other people in the neighbourhood in whom I was not in the least\n",
            "interested, but whose biographies I was compelled to listen to.\n",
            "\n",
            "\n",
            "Encoded Message:\n",
            " s vfak jwhkgai iwzk vfa mvxaav lki owhki  lm s anuabvai  vflv vfaxa\n",
            "zlm l tazm sk l jlka zfsbf xhkm iwzk cy wka zljj wo vfa glxiak  s jakv\n",
            "vfa wmvjaxm l flki sk xhccskg iwzk vfasx fwxmam  lki xabasdai sk\n",
            "anbflkga vzwuakba  l gjlmm wo fljo lki fljo  vzw osjjm wo mflg vwclbbw\n",
            "lki lm thbf skowxtlvswk lm s bwhji iamsxa lcwhv tsmm lijax  vw mly\n",
            "kwvfskg wo fljo l iwqak wvfax uawuja sk vfa kasgfcwhxfwwi sk zfwt s\n",
            "zlm kwv sk vfa jalmv skvaxamvai  chv zfwma cswgxlufsam s zlm bwtuajjai\n",
            "vw jsmvak vw\n",
            "\n",
            "Decoded Message:\n",
            " i then lounged down the street and found  as i expected  that there\n",
            "was a mews in a lane which runs down by one wall of the garden  i lent\n",
            "the ostlers a hand in rubbing down their horses  and received in\n",
            "exchange twopence  a glass of half and half  two fills of shag tobacco\n",
            "and as much information as i could desire about miss adler  to say\n",
            "nothing of half a doken other people in the neighbourhood in whom i\n",
            "was not in the least interested  but whose biographies i was compelled\n",
            "to listen to\n"
          ],
          "name": "stdout"
        }
      ]
    },
    {
      "cell_type": "code",
      "metadata": {
        "id": "8nHvBuiFjeAq",
        "colab_type": "code",
        "colab": {
          "base_uri": "https://localhost:8080/",
          "height": 265
        },
        "outputId": "64c8bde0-ca9f-4f1b-aace-1a18e443fae7"
      },
      "source": [
        "plt.plot(scores)\n",
        "plt.show()"
      ],
      "execution_count": 22,
      "outputs": [
        {
          "output_type": "display_data",
          "data": {
            "image/png": "[encoded data removed]",
            "text/plain": [
              "<Figure size 432x288 with 1 Axes>"
            ]
          },
          "metadata": {
            "tags": [],
            "needs_background": "light"
          }
        }
      ]
    },
    {
      "cell_type": "markdown",
      "metadata": {
        "id": "z45_VOqmnrdD",
        "colab_type": "text"
      },
      "source": [
        "### Extensions:\n",
        "* trigrams (Any higher N)\n",
        "* replace the Markov model with deep learning RNN"
      ]
    },
    {
      "cell_type": "code",
      "metadata": {
        "id": "gNfQud6fpdW6",
        "colab_type": "code",
        "colab": {}
      },
      "source": [
        ""
      ],
      "execution_count": 0,
      "outputs": []
    }
  ]
}